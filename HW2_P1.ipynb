{
  "nbformat": 4,
  "nbformat_minor": 0,
  "metadata": {
    "colab": {
      "provenance": [],
      "mount_file_id": "1FklYPrSVH9OneeLHyJ0nk2PcHZ9WY7Vx",
      "authorship_tag": "ABX9TyMxnsp1YwQU+vtXYGQuVLsx",
      "include_colab_link": true
    },
    "kernelspec": {
      "name": "python3",
      "display_name": "Python 3"
    },
    "language_info": {
      "name": "python"
    }
  },
  "cells": [
    {
      "cell_type": "markdown",
      "metadata": {
        "id": "view-in-github",
        "colab_type": "text"
      },
      "source": [
        "<a href=\"https://colab.research.google.com/github/AliMamaghani1999/DeepLearning-HW2/blob/main/HW2_P1.ipynb\" target=\"_parent\"><img src=\"https://colab.research.google.com/assets/colab-badge.svg\" alt=\"Open In Colab\"/></a>"
      ]
    },
    {
      "cell_type": "markdown",
      "source": [
        "Ali Mamaghani\n",
        "401200306"
      ],
      "metadata": {
        "id": "8h5d7j3diXvd"
      }
    },
    {
      "cell_type": "markdown",
      "source": [
        "# Part-A"
      ],
      "metadata": {
        "id": "uB0A30zViYo4"
      }
    },
    {
      "cell_type": "code",
      "execution_count": 1,
      "metadata": {
        "id": "BuWvKO5OjwRS"
      },
      "outputs": [],
      "source": [
        "import torch\n",
        "from torch.utils.data import Dataset\n",
        "from torchvision import datasets\n",
        "from torchvision.transforms import ToTensor\n",
        "from torch.utils.data import DataLoader\n",
        "import numpy as np\n",
        "import matplotlib.pyplot as plt\n"
      ]
    },
    {
      "cell_type": "code",
      "source": [
        "data_tr=datasets.FashionMNIST(root='/content/drive/MyDrive/Colab Notebooks/Data2/HW2_data',\n",
        "                           train=True,\n",
        "                           download=True,\n",
        "                           transform=ToTensor()\n",
        "                          )\n",
        "data_te=datasets.FashionMNIST(root='/content/drive/MyDrive/Colab Notebooks/Data2/HW2_data',\n",
        "                           train=False,\n",
        "                           download=True,\n",
        "                           transform=ToTensor()\n",
        "                          )\n"
      ],
      "metadata": {
        "id": "8zWAi4UxnYA0"
      },
      "execution_count": 2,
      "outputs": []
    },
    {
      "cell_type": "code",
      "source": [
        "dataclass={\"0\":[],\"1\":[],\"2\":[],\"3\":[],\"4\":[],\"5\":[],\"6\":[],\"7\":[],\"8\":[],\"9\":[]}\n",
        "for i in range(60000):\n",
        "  dataclass[str(data_tr[i][1])].append(i)"
      ],
      "metadata": {
        "id": "Zq9t3pwClw7W"
      },
      "execution_count": 3,
      "outputs": []
    },
    {
      "cell_type": "code",
      "source": [
        "import random\n",
        "for i in range(10):\n",
        "  img,c_num=data_tr[random.choice(dataclass[str(i)])]\n",
        "  #print(\"lable_number\",c_num)\n",
        "  plt.imshow(img[0],cmap=\"gray\")\n",
        "  plt.title(c_num)\n",
        "  plt.show()\n"
      ],
      "metadata": {
        "colab": {
          "base_uri": "https://localhost:8080/",
          "height": 1000
        },
        "id": "dFN7WAUIoQRw",
        "outputId": "b5baa537-6e63-4891-e9ed-b926c07a3dc1"
      },
      "execution_count": 4,
      "outputs": [
        {
          "output_type": "display_data",
          "data": {
            "text/plain": [
              "<Figure size 432x288 with 1 Axes>"
            ],
            "image/png": "[encoded data removed]"
          },
          "metadata": {
            "needs_background": "light"
          }
        },
        {
          "output_type": "display_data",
          "data": {
            "text/plain": [
              "<Figure size 432x288 with 1 Axes>"
            ],
            "image/png": "[encoded data removed]"
          },
          "metadata": {
            "needs_background": "light"
          }
        },
        {
          "output_type": "display_data",
          "data": {
            "text/plain": [
              "<Figure size 432x288 with 1 Axes>"
            ],
            "image/png": "[encoded data removed]"
          },
          "metadata": {
            "needs_background": "light"
          }
        },
        {
          "output_type": "display_data",
          "data": {
            "text/plain": [
              "<Figure size 432x288 with 1 Axes>"
            ],
            "image/png": "[encoded data removed]"
          },
          "metadata": {
            "needs_background": "light"
          }
        },
        {
          "output_type": "display_data",
          "data": {
            "text/plain": [
              "<Figure size 432x288 with 1 Axes>"
            ],
            "image/png": "[encoded data removed]"
          },
          "metadata": {
            "needs_background": "light"
          }
        },
        {
          "output_type": "display_data",
          "data": {
            "text/plain": [
              "<Figure size 432x288 with 1 Axes>"
            ],
            "image/png": "[encoded data removed]"
          },
          "metadata": {
            "needs_background": "light"
          }
        },
        {
          "output_type": "display_data",
          "data": {
            "text/plain": [
              "<Figure size 432x288 with 1 Axes>"
            ],
            "image/png": "[encoded data removed]"
          },
          "metadata": {
            "needs_background": "light"
          }
        },
        {
          "output_type": "display_data",
          "data": {
            "text/plain": [
              "<Figure size 432x288 with 1 Axes>"
            ],
            "image/png": "[encoded data removed]"
          },
          "metadata": {
            "needs_background": "light"
          }
        },
        {
          "output_type": "display_data",
          "data": {
            "text/plain": [
              "<Figure size 432x288 with 1 Axes>"
            ],
            "image/png": "[encoded data removed]"
          },
          "metadata": {
            "needs_background": "light"
          }
        },
        {
          "output_type": "display_data",
          "data": {
            "text/plain": [
              "<Figure size 432x288 with 1 Axes>"
            ],
            "image/png": "[encoded data removed]"
          },
          "metadata": {
            "needs_background": "light"
          }
        }
      ]
    },
    {
      "cell_type": "markdown",
      "source": [
        "# Part-B"
      ],
      "metadata": {
        "id": "41sGy9Euic7q"
      }
    },
    {
      "cell_type": "code",
      "source": [
        "def my_Linear(X,W ,b):\n",
        "  return W.T @ X + b"
      ],
      "metadata": {
        "id": "TU9c76bDnyuC"
      },
      "execution_count": null,
      "outputs": []
    },
    {
      "cell_type": "code",
      "source": [
        "def my_ReLU(x):\n",
        "  return torch.maximum(x,torch.zeros_like(x))"
      ],
      "metadata": {
        "id": "SI3PoRIbo8N8"
      },
      "execution_count": null,
      "outputs": []
    },
    {
      "cell_type": "code",
      "source": [
        "def my_softmax(x):\n",
        " y=torch.exp(x)\n",
        " return y/sum(y)"
      ],
      "metadata": {
        "id": "QdJ_NRKG21JK"
      },
      "execution_count": null,
      "outputs": []
    },
    {
      "cell_type": "code",
      "source": [
        "class my_NeuralNetwork():\n",
        "    def __init__(self):\n",
        "        self.W1 = 0.05*torch.randn(28*28, 512)\n",
        "        self.W1.requires_grad_()\n",
        "        self.b1=0.05*torch.randn(512, 1)\n",
        "        self.b1.requires_grad_()\n",
        "        self.W2 = 0.05*torch.randn(512, 128)\n",
        "        self.W2.requires_grad_()\n",
        "        self.b2=0.05*torch.randn(128, 1)\n",
        "        self.b2.requires_grad_()\n",
        "        self.W3 = 0.05*torch.randn(128, 32)\n",
        "        self.W3.requires_grad_()\n",
        "        self.b3=0.05*torch.randn(32, 1)\n",
        "        self.b3.requires_grad_()\n",
        "        self.W4 = 0.05*torch.randn(32, 10)\n",
        "        self.W4.requires_grad_()\n",
        "        self.b4=0.05*torch.randn(10, 1)\n",
        "        self.b4.requires_grad_()\n",
        "        \n",
        "        self.linear1 = my_Linear\n",
        "        self.relu1 = my_ReLU\n",
        "        self.linear2 = my_Linear\n",
        "        self.relu2 = my_ReLU\n",
        "        self.linear3 = my_Linear\n",
        "        self.relu3 = my_ReLU\n",
        "        self.linear4 = my_Linear\n",
        "        self.softmax=my_softmax\n",
        "    def forward(self, x):\n",
        "        x = x.reshape(-1,1)\n",
        "        x = self.linear1(x,self.W1,self.b1)\n",
        "        x = self.relu1(x)\n",
        "        x = self.linear2(x,self.W2,self.b2)\n",
        "        x = self.relu2(x)\n",
        "        x = self.linear3(x,self.W3,self.b3)\n",
        "        x = self.relu3(x)\n",
        "        x = self.linear4(x,self.W4,self.b4)\n",
        "        y = self.softmax(x)\n",
        "        return y"
      ],
      "metadata": {
        "id": "L6nTigVwfTJj"
      },
      "execution_count": null,
      "outputs": []
    },
    {
      "cell_type": "code",
      "source": [
        "model=my_NeuralNetwork()"
      ],
      "metadata": {
        "id": "TOard0qiplUm"
      },
      "execution_count": null,
      "outputs": []
    },
    {
      "cell_type": "code",
      "source": [
        "print(model.forward(data_tr[0][0]).argmax()==data_tr[0][1])\n",
        "#print(data_tr[0][1])\n",
        "#model.W1.requires_grad"
      ],
      "metadata": {
        "colab": {
          "base_uri": "https://localhost:8080/"
        },
        "id": "YQtSMSaGqqkg",
        "outputId": "0ab4b649-47cd-4744-93f6-1033da9c85d8"
      },
      "execution_count": null,
      "outputs": [
        {
          "output_type": "stream",
          "name": "stdout",
          "text": [
            "tensor(False)\n"
          ]
        }
      ]
    },
    {
      "cell_type": "markdown",
      "source": [
        "# Part-C"
      ],
      "metadata": {
        "id": "kOninhPdCrHV"
      }
    },
    {
      "cell_type": "code",
      "source": [
        "def loss(y,yp):\n",
        "  return -(y * torch.log10(yp)).sum()\n"
      ],
      "metadata": {
        "id": "ly3TP0tvgMCq"
      },
      "execution_count": null,
      "outputs": []
    },
    {
      "cell_type": "code",
      "source": [
        "for i in range(10):\n",
        "  \n",
        "  for j in range(600):\n",
        "    img,lable=data_tr[j]\n",
        "    yb=model.forward(img)\n",
        "    yr=torch.zeros([10,1])\n",
        "    err=torch.zeros([1,1])\n",
        "    for k in range(100):\n",
        "      img,lable=data_tr[j*100+k]\n",
        "      yr=torch.zeros([10,1])\n",
        "      yb=model.forward(img)\n",
        "      yr[lable,0]=1\n",
        "      err+=loss(yr,yb)\n",
        "    err.backward()\n",
        "    with torch.no_grad():\n",
        "      model.W4 -= 0.001*model.W4.grad\n",
        "      model.b4 -= 0.001*model.b4.grad\n",
        "      model.W3 -= 0.001*model.W3.grad\n",
        "      model.b3 -= 0.001*model.b3.grad\n",
        "      model.W2 -= 0.001*model.W2.grad\n",
        "      model.b2 -= 0.001*model.b2.grad\n",
        "      model.W1 -= 0.001*model.W1.grad\n",
        "      model.b1 -= 0.001*model.b1.grad\n",
        "      model.W4.grad.zero_()\n",
        "      model.W3.grad.zero_()\n",
        "      model.W2.grad.zero_()\n",
        "      model.W1.grad.zero_()\n",
        "      model.b1.grad.zero_()\n",
        "      model.b2.grad.zero_()\n",
        "      model.b3.grad.zero_()\n",
        "      model.b4.grad.zero_()\n",
        "  t=0\n",
        "  for ml in data_tr:\n",
        "    t+=model.forward(ml[0]).argmax()==ml[1]\n",
        "  print(\"epoch\",i+1)\n",
        "  print(\"train accuracy=\",t*100/60000)\n",
        "\n",
        "  t=0\n",
        "  for ml in data_te:\n",
        "    t+=model.forward(ml[0]).argmax()==ml[1]\n",
        "  print(\"test accuracy=\",t*100/10000)\n"
      ],
      "metadata": {
        "colab": {
          "base_uri": "https://localhost:8080/"
        },
        "id": "oPhn_gkGCpVq",
        "outputId": "36b6ea5d-7a9f-406c-cad5-17f8f2eb1083"
      },
      "execution_count": null,
      "outputs": [
        {
          "output_type": "stream",
          "name": "stdout",
          "text": [
            "epoch 1\n",
            "train accuracy= tensor(77.7300)\n",
            "test accuracy= tensor(76.5000)\n",
            "epoch 2\n",
            "train accuracy= tensor(82.5767)\n",
            "test accuracy= tensor(81.3100)\n",
            "epoch 3\n",
            "train accuracy= tensor(85.0400)\n",
            "test accuracy= tensor(83.4400)\n",
            "epoch 4\n",
            "train accuracy= tensor(86.3367)\n",
            "test accuracy= tensor(84.7700)\n",
            "epoch 5\n",
            "train accuracy= tensor(87.2417)\n",
            "test accuracy= tensor(85.6400)\n",
            "epoch 6\n",
            "train accuracy= tensor(87.9750)\n",
            "test accuracy= tensor(86.2800)\n",
            "epoch 7\n",
            "train accuracy= tensor(88.4717)\n",
            "test accuracy= tensor(86.5100)\n",
            "epoch 8\n",
            "train accuracy= tensor(88.8300)\n",
            "test accuracy= tensor(86.7400)\n",
            "epoch 9\n",
            "train accuracy= tensor(89.1217)\n",
            "test accuracy= tensor(86.8900)\n",
            "epoch 10\n",
            "train accuracy= tensor(89.2833)\n",
            "test accuracy= tensor(86.8500)\n"
          ]
        }
      ]
    },
    {
      "cell_type": "code",
      "source": [
        "# saving\n",
        "torch.save(model, '/content/drive/MyDrive/Colab Notebooks/Data2/HW2_data/model.pth')\n"
      ],
      "metadata": {
        "id": "OGROnaob8k6n"
      },
      "execution_count": null,
      "outputs": []
    },
    {
      "cell_type": "code",
      "source": [
        "# loading\n",
        "model = torch.load('/content/drive/MyDrive/Colab Notebooks/Data2/HW2_data/model.pth')\n",
        "model.eval()"
      ],
      "metadata": {
        "id": "evc-D-i-9VVu"
      },
      "execution_count": null,
      "outputs": []
    },
    {
      "cell_type": "code",
      "source": [
        "t=0\n",
        "for i in data_te:\n",
        "  t+=model.forward(i[0]).argmax()==i[1]\n",
        "  \n"
      ],
      "metadata": {
        "id": "UkG4YGA8oeys"
      },
      "execution_count": null,
      "outputs": []
    },
    {
      "cell_type": "code",
      "source": [
        "print(t/10000)"
      ],
      "metadata": {
        "colab": {
          "base_uri": "https://localhost:8080/"
        },
        "id": "Q08_HqhpqNZr",
        "outputId": "2f8ddcbf-41d9-4811-d462-2e7bc0ae07f4"
      },
      "execution_count": null,
      "outputs": [
        {
          "output_type": "stream",
          "name": "stdout",
          "text": [
            "tensor(0.8685)\n"
          ]
        }
      ]
    },
    {
      "cell_type": "markdown",
      "source": [
        "# Part-D"
      ],
      "metadata": {
        "id": "PbOCCg357Al5"
      }
    },
    {
      "cell_type": "markdown",
      "source": [
        "The accuracy of the model in test data = 86.85%"
      ],
      "metadata": {
        "id": "gkrKhwXSq9gW"
      }
    },
    {
      "cell_type": "code",
      "source": [
        "import random\n",
        "for i in range(10):\n",
        "  img,c_num=random.choice(data_te)\n",
        "  print(\"lable_number=\",c_num)\n",
        "  print(\"predicted_lable_numver=\",model.forward(img).argmax())\n",
        "  plt.imshow(img[0],cmap=\"gray\")\n",
        "  plt.show()\n"
      ],
      "metadata": {
        "colab": {
          "base_uri": "https://localhost:8080/",
          "height": 1000
        },
        "id": "Hvos6MXf94qp",
        "outputId": "2871ba61-15ab-46ca-967f-ed396bf1896e"
      },
      "execution_count": null,
      "outputs": [
        {
          "output_type": "stream",
          "name": "stdout",
          "text": [
            "lable_number= 0\n",
            "predicted_lable_numver= tensor(0)\n"
          ]
        },
        {
          "output_type": "display_data",
          "data": {
            "text/plain": [
              "<Figure size 432x288 with 1 Axes>"
            ],
            "image/png": "[encoded data removed]"
          },
          "metadata": {
            "needs_background": "light"
          }
        },
        {
          "output_type": "stream",
          "name": "stdout",
          "text": [
            "lable_number= 7\n",
            "predicted_lable_numver= tensor(7)\n"
          ]
        },
        {
          "output_type": "display_data",
          "data": {
            "text/plain": [
              "<Figure size 432x288 with 1 Axes>"
            ],
            "image/png": "[encoded data removed]"
          },
          "metadata": {
            "needs_background": "light"
          }
        },
        {
          "output_type": "stream",
          "name": "stdout",
          "text": [
            "lable_number= 4\n",
            "predicted_lable_numver= tensor(4)\n"
          ]
        },
        {
          "output_type": "display_data",
          "data": {
            "text/plain": [
              "<Figure size 432x288 with 1 Axes>"
            ],
            "image/png": "[encoded data removed]"
          },
          "metadata": {
            "needs_background": "light"
          }
        },
        {
          "output_type": "stream",
          "name": "stdout",
          "text": [
            "lable_number= 6\n",
            "predicted_lable_numver= tensor(6)\n"
          ]
        },
        {
          "output_type": "display_data",
          "data": {
            "text/plain": [
              "<Figure size 432x288 with 1 Axes>"
            ],
            "image/png": "[encoded data removed]"
          },
          "metadata": {
            "needs_background": "light"
          }
        },
        {
          "output_type": "stream",
          "name": "stdout",
          "text": [
            "lable_number= 6\n",
            "predicted_lable_numver= tensor(6)\n"
          ]
        },
        {
          "output_type": "display_data",
          "data": {
            "text/plain": [
              "<Figure size 432x288 with 1 Axes>"
            ],
            "image/png": "[encoded data removed]"
          },
          "metadata": {
            "needs_background": "light"
          }
        },
        {
          "output_type": "stream",
          "name": "stdout",
          "text": [
            "lable_number= 2\n",
            "predicted_lable_numver= tensor(2)\n"
          ]
        },
        {
          "output_type": "display_data",
          "data": {
            "text/plain": [
              "<Figure size 432x288 with 1 Axes>"
            ],
            "image/png": "[encoded data removed]"
          },
          "metadata": {
            "needs_background": "light"
          }
        },
        {
          "output_type": "stream",
          "name": "stdout",
          "text": [
            "lable_number= 5\n",
            "predicted_lable_numver= tensor(5)\n"
          ]
        },
        {
          "output_type": "display_data",
          "data": {
            "text/plain": [
              "<Figure size 432x288 with 1 Axes>"
            ],
            "image/png": "[encoded data removed]"
          },
          "metadata": {
            "needs_background": "light"
          }
        },
        {
          "output_type": "stream",
          "name": "stdout",
          "text": [
            "lable_number= 8\n",
            "predicted_lable_numver= tensor(8)\n"
          ]
        },
        {
          "output_type": "display_data",
          "data": {
            "text/plain": [
              "<Figure size 432x288 with 1 Axes>"
            ],
            "image/png": "[encoded data removed]"
          },
          "metadata": {
            "needs_background": "light"
          }
        },
        {
          "output_type": "stream",
          "name": "stdout",
          "text": [
            "lable_number= 5\n",
            "predicted_lable_numver= tensor(5)\n"
          ]
        },
        {
          "output_type": "display_data",
          "data": {
            "text/plain": [
              "<Figure size 432x288 with 1 Axes>"
            ],
            "image/png": "[encoded data removed]"
          },
          "metadata": {
            "needs_background": "light"
          }
        },
        {
          "output_type": "stream",
          "name": "stdout",
          "text": [
            "lable_number= 6\n",
            "predicted_lable_numver= tensor(6)\n"
          ]
        },
        {
          "output_type": "display_data",
          "data": {
            "text/plain": [
              "<Figure size 432x288 with 1 Axes>"
            ],
            "image/png": "[encoded data removed]"
          },
          "metadata": {
            "needs_background": "light"
          }
        }
      ]
    }
  ]
}